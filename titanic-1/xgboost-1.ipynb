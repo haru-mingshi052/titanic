{
 "cells": [
  {
   "cell_type": "code",
   "execution_count": 1,
   "metadata": {
    "_cell_guid": "79c7e3d0-c299-4dcb-8224-4455121ee9b0",
    "_uuid": "d629ff2d2480ee46fbb7e2d37f6b5fab8052498a",
    "execution": {
     "iopub.execute_input": "2020-10-13T09:10:49.250083Z",
     "iopub.status.busy": "2020-10-13T09:10:49.249649Z",
     "iopub.status.idle": "2020-10-13T09:10:50.997397Z",
     "shell.execute_reply": "2020-10-13T09:10:50.996857Z"
    },
    "papermill": {
     "duration": 1.780782,
     "end_time": "2020-10-13T09:10:50.997482",
     "exception": false,
     "start_time": "2020-10-13T09:10:49.216700",
     "status": "completed"
    },
    "tags": []
   },
   "outputs": [],
   "source": [
    "import pandas as pd\n",
    "import numpy as np\n",
    "from sklearn.metrics import accuracy_score\n",
    "from xgboost import XGBClassifier\n",
    "from sklearn.model_selection import train_test_split"
   ]
  },
  {
   "cell_type": "markdown",
   "metadata": {
    "papermill": {
     "duration": 0.018113,
     "end_time": "2020-10-13T09:10:51.033865",
     "exception": false,
     "start_time": "2020-10-13T09:10:51.015752",
     "status": "completed"
    },
    "tags": []
   },
   "source": [
    "###データの準備"
   ]
  },
  {
   "cell_type": "code",
   "execution_count": 2,
   "metadata": {
    "execution": {
     "iopub.execute_input": "2020-10-13T09:10:51.075806Z",
     "iopub.status.busy": "2020-10-13T09:10:51.075316Z",
     "iopub.status.idle": "2020-10-13T09:10:51.099018Z",
     "shell.execute_reply": "2020-10-13T09:10:51.098639Z"
    },
    "papermill": {
     "duration": 0.046841,
     "end_time": "2020-10-13T09:10:51.099130",
     "exception": false,
     "start_time": "2020-10-13T09:10:51.052289",
     "status": "completed"
    },
    "tags": []
   },
   "outputs": [],
   "source": [
    "train = pd.read_csv('../input/titanic/train.csv')\n",
    "test = pd.read_csv('../input/titanic/test.csv')\n",
    "sub = pd.read_csv('../input/titanic/gender_submission.csv')"
   ]
  },
  {
   "cell_type": "code",
   "execution_count": 3,
   "metadata": {
    "execution": {
     "iopub.execute_input": "2020-10-13T09:10:51.154935Z",
     "iopub.status.busy": "2020-10-13T09:10:51.154332Z",
     "iopub.status.idle": "2020-10-13T09:10:51.164779Z",
     "shell.execute_reply": "2020-10-13T09:10:51.164165Z"
    },
    "papermill": {
     "duration": 0.047304,
     "end_time": "2020-10-13T09:10:51.164879",
     "exception": false,
     "start_time": "2020-10-13T09:10:51.117575",
     "status": "completed"
    },
    "tags": []
   },
   "outputs": [
    {
     "name": "stdout",
     "output_type": "stream",
     "text": [
      "(891, 12)\n"
     ]
    },
    {
     "data": {
      "text/html": [
       "<div>\n",
       "<style scoped>\n",
       "    .dataframe tbody tr th:only-of-type {\n",
       "        vertical-align: middle;\n",
       "    }\n",
       "\n",
       "    .dataframe tbody tr th {\n",
       "        vertical-align: top;\n",
       "    }\n",
       "\n",
       "    .dataframe thead th {\n",
       "        text-align: right;\n",
       "    }\n",
       "</style>\n",
       "<table border=\"1\" class=\"dataframe\">\n",
       "  <thead>\n",
       "    <tr style=\"text-align: right;\">\n",
       "      <th></th>\n",
       "      <th>PassengerId</th>\n",
       "      <th>Survived</th>\n",
       "      <th>Pclass</th>\n",
       "      <th>Name</th>\n",
       "      <th>Sex</th>\n",
       "      <th>Age</th>\n",
       "      <th>SibSp</th>\n",
       "      <th>Parch</th>\n",
       "      <th>Ticket</th>\n",
       "      <th>Fare</th>\n",
       "      <th>Cabin</th>\n",
       "      <th>Embarked</th>\n",
       "    </tr>\n",
       "  </thead>\n",
       "  <tbody>\n",
       "    <tr>\n",
       "      <th>0</th>\n",
       "      <td>1</td>\n",
       "      <td>0</td>\n",
       "      <td>3</td>\n",
       "      <td>Braund, Mr. Owen Harris</td>\n",
       "      <td>male</td>\n",
       "      <td>22.0</td>\n",
       "      <td>1</td>\n",
       "      <td>0</td>\n",
       "      <td>A/5 21171</td>\n",
       "      <td>7.2500</td>\n",
       "      <td>NaN</td>\n",
       "      <td>S</td>\n",
       "    </tr>\n",
       "    <tr>\n",
       "      <th>1</th>\n",
       "      <td>2</td>\n",
       "      <td>1</td>\n",
       "      <td>1</td>\n",
       "      <td>Cumings, Mrs. John Bradley (Florence Briggs Th...</td>\n",
       "      <td>female</td>\n",
       "      <td>38.0</td>\n",
       "      <td>1</td>\n",
       "      <td>0</td>\n",
       "      <td>PC 17599</td>\n",
       "      <td>71.2833</td>\n",
       "      <td>C85</td>\n",
       "      <td>C</td>\n",
       "    </tr>\n",
       "    <tr>\n",
       "      <th>2</th>\n",
       "      <td>3</td>\n",
       "      <td>1</td>\n",
       "      <td>3</td>\n",
       "      <td>Heikkinen, Miss. Laina</td>\n",
       "      <td>female</td>\n",
       "      <td>26.0</td>\n",
       "      <td>0</td>\n",
       "      <td>0</td>\n",
       "      <td>STON/O2. 3101282</td>\n",
       "      <td>7.9250</td>\n",
       "      <td>NaN</td>\n",
       "      <td>S</td>\n",
       "    </tr>\n",
       "    <tr>\n",
       "      <th>3</th>\n",
       "      <td>4</td>\n",
       "      <td>1</td>\n",
       "      <td>1</td>\n",
       "      <td>Futrelle, Mrs. Jacques Heath (Lily May Peel)</td>\n",
       "      <td>female</td>\n",
       "      <td>35.0</td>\n",
       "      <td>1</td>\n",
       "      <td>0</td>\n",
       "      <td>113803</td>\n",
       "      <td>53.1000</td>\n",
       "      <td>C123</td>\n",
       "      <td>S</td>\n",
       "    </tr>\n",
       "    <tr>\n",
       "      <th>4</th>\n",
       "      <td>5</td>\n",
       "      <td>0</td>\n",
       "      <td>3</td>\n",
       "      <td>Allen, Mr. William Henry</td>\n",
       "      <td>male</td>\n",
       "      <td>35.0</td>\n",
       "      <td>0</td>\n",
       "      <td>0</td>\n",
       "      <td>373450</td>\n",
       "      <td>8.0500</td>\n",
       "      <td>NaN</td>\n",
       "      <td>S</td>\n",
       "    </tr>\n",
       "  </tbody>\n",
       "</table>\n",
       "</div>"
      ],
      "text/plain": [
       "   PassengerId  Survived  Pclass  \\\n",
       "0            1         0       3   \n",
       "1            2         1       1   \n",
       "2            3         1       3   \n",
       "3            4         1       1   \n",
       "4            5         0       3   \n",
       "\n",
       "                                                Name     Sex   Age  SibSp  \\\n",
       "0                            Braund, Mr. Owen Harris    male  22.0      1   \n",
       "1  Cumings, Mrs. John Bradley (Florence Briggs Th...  female  38.0      1   \n",
       "2                             Heikkinen, Miss. Laina  female  26.0      0   \n",
       "3       Futrelle, Mrs. Jacques Heath (Lily May Peel)  female  35.0      1   \n",
       "4                           Allen, Mr. William Henry    male  35.0      0   \n",
       "\n",
       "   Parch            Ticket     Fare Cabin Embarked  \n",
       "0      0         A/5 21171   7.2500   NaN        S  \n",
       "1      0          PC 17599  71.2833   C85        C  \n",
       "2      0  STON/O2. 3101282   7.9250   NaN        S  \n",
       "3      0            113803  53.1000  C123        S  \n",
       "4      0            373450   8.0500   NaN        S  "
      ]
     },
     "metadata": {},
     "output_type": "display_data"
    }
   ],
   "source": [
    "print(train.shape)\n",
    "display(train.head())"
   ]
  },
  {
   "cell_type": "code",
   "execution_count": 4,
   "metadata": {
    "execution": {
     "iopub.execute_input": "2020-10-13T09:10:51.211852Z",
     "iopub.status.busy": "2020-10-13T09:10:51.211156Z",
     "iopub.status.idle": "2020-10-13T09:10:51.220949Z",
     "shell.execute_reply": "2020-10-13T09:10:51.220594Z"
    },
    "papermill": {
     "duration": 0.036353,
     "end_time": "2020-10-13T09:10:51.221029",
     "exception": false,
     "start_time": "2020-10-13T09:10:51.184676",
     "status": "completed"
    },
    "tags": []
   },
   "outputs": [
    {
     "name": "stdout",
     "output_type": "stream",
     "text": [
      "(418, 11)\n"
     ]
    },
    {
     "data": {
      "text/html": [
       "<div>\n",
       "<style scoped>\n",
       "    .dataframe tbody tr th:only-of-type {\n",
       "        vertical-align: middle;\n",
       "    }\n",
       "\n",
       "    .dataframe tbody tr th {\n",
       "        vertical-align: top;\n",
       "    }\n",
       "\n",
       "    .dataframe thead th {\n",
       "        text-align: right;\n",
       "    }\n",
       "</style>\n",
       "<table border=\"1\" class=\"dataframe\">\n",
       "  <thead>\n",
       "    <tr style=\"text-align: right;\">\n",
       "      <th></th>\n",
       "      <th>PassengerId</th>\n",
       "      <th>Pclass</th>\n",
       "      <th>Name</th>\n",
       "      <th>Sex</th>\n",
       "      <th>Age</th>\n",
       "      <th>SibSp</th>\n",
       "      <th>Parch</th>\n",
       "      <th>Ticket</th>\n",
       "      <th>Fare</th>\n",
       "      <th>Cabin</th>\n",
       "      <th>Embarked</th>\n",
       "    </tr>\n",
       "  </thead>\n",
       "  <tbody>\n",
       "    <tr>\n",
       "      <th>0</th>\n",
       "      <td>892</td>\n",
       "      <td>3</td>\n",
       "      <td>Kelly, Mr. James</td>\n",
       "      <td>male</td>\n",
       "      <td>34.5</td>\n",
       "      <td>0</td>\n",
       "      <td>0</td>\n",
       "      <td>330911</td>\n",
       "      <td>7.8292</td>\n",
       "      <td>NaN</td>\n",
       "      <td>Q</td>\n",
       "    </tr>\n",
       "    <tr>\n",
       "      <th>1</th>\n",
       "      <td>893</td>\n",
       "      <td>3</td>\n",
       "      <td>Wilkes, Mrs. James (Ellen Needs)</td>\n",
       "      <td>female</td>\n",
       "      <td>47.0</td>\n",
       "      <td>1</td>\n",
       "      <td>0</td>\n",
       "      <td>363272</td>\n",
       "      <td>7.0000</td>\n",
       "      <td>NaN</td>\n",
       "      <td>S</td>\n",
       "    </tr>\n",
       "    <tr>\n",
       "      <th>2</th>\n",
       "      <td>894</td>\n",
       "      <td>2</td>\n",
       "      <td>Myles, Mr. Thomas Francis</td>\n",
       "      <td>male</td>\n",
       "      <td>62.0</td>\n",
       "      <td>0</td>\n",
       "      <td>0</td>\n",
       "      <td>240276</td>\n",
       "      <td>9.6875</td>\n",
       "      <td>NaN</td>\n",
       "      <td>Q</td>\n",
       "    </tr>\n",
       "    <tr>\n",
       "      <th>3</th>\n",
       "      <td>895</td>\n",
       "      <td>3</td>\n",
       "      <td>Wirz, Mr. Albert</td>\n",
       "      <td>male</td>\n",
       "      <td>27.0</td>\n",
       "      <td>0</td>\n",
       "      <td>0</td>\n",
       "      <td>315154</td>\n",
       "      <td>8.6625</td>\n",
       "      <td>NaN</td>\n",
       "      <td>S</td>\n",
       "    </tr>\n",
       "    <tr>\n",
       "      <th>4</th>\n",
       "      <td>896</td>\n",
       "      <td>3</td>\n",
       "      <td>Hirvonen, Mrs. Alexander (Helga E Lindqvist)</td>\n",
       "      <td>female</td>\n",
       "      <td>22.0</td>\n",
       "      <td>1</td>\n",
       "      <td>1</td>\n",
       "      <td>3101298</td>\n",
       "      <td>12.2875</td>\n",
       "      <td>NaN</td>\n",
       "      <td>S</td>\n",
       "    </tr>\n",
       "  </tbody>\n",
       "</table>\n",
       "</div>"
      ],
      "text/plain": [
       "   PassengerId  Pclass                                          Name     Sex  \\\n",
       "0          892       3                              Kelly, Mr. James    male   \n",
       "1          893       3              Wilkes, Mrs. James (Ellen Needs)  female   \n",
       "2          894       2                     Myles, Mr. Thomas Francis    male   \n",
       "3          895       3                              Wirz, Mr. Albert    male   \n",
       "4          896       3  Hirvonen, Mrs. Alexander (Helga E Lindqvist)  female   \n",
       "\n",
       "    Age  SibSp  Parch   Ticket     Fare Cabin Embarked  \n",
       "0  34.5      0      0   330911   7.8292   NaN        Q  \n",
       "1  47.0      1      0   363272   7.0000   NaN        S  \n",
       "2  62.0      0      0   240276   9.6875   NaN        Q  \n",
       "3  27.0      0      0   315154   8.6625   NaN        S  \n",
       "4  22.0      1      1  3101298  12.2875   NaN        S  "
      ]
     },
     "metadata": {},
     "output_type": "display_data"
    }
   ],
   "source": [
    "print(test.shape)\n",
    "display(test.head())"
   ]
  },
  {
   "cell_type": "code",
   "execution_count": 5,
   "metadata": {
    "execution": {
     "iopub.execute_input": "2020-10-13T09:10:51.266852Z",
     "iopub.status.busy": "2020-10-13T09:10:51.266182Z",
     "iopub.status.idle": "2020-10-13T09:10:51.270888Z",
     "shell.execute_reply": "2020-10-13T09:10:51.271242Z"
    },
    "papermill": {
     "duration": 0.030816,
     "end_time": "2020-10-13T09:10:51.271346",
     "exception": false,
     "start_time": "2020-10-13T09:10:51.240530",
     "status": "completed"
    },
    "tags": []
   },
   "outputs": [
    {
     "name": "stdout",
     "output_type": "stream",
     "text": [
      "(418, 2)\n"
     ]
    },
    {
     "data": {
      "text/html": [
       "<div>\n",
       "<style scoped>\n",
       "    .dataframe tbody tr th:only-of-type {\n",
       "        vertical-align: middle;\n",
       "    }\n",
       "\n",
       "    .dataframe tbody tr th {\n",
       "        vertical-align: top;\n",
       "    }\n",
       "\n",
       "    .dataframe thead th {\n",
       "        text-align: right;\n",
       "    }\n",
       "</style>\n",
       "<table border=\"1\" class=\"dataframe\">\n",
       "  <thead>\n",
       "    <tr style=\"text-align: right;\">\n",
       "      <th></th>\n",
       "      <th>PassengerId</th>\n",
       "      <th>Survived</th>\n",
       "    </tr>\n",
       "  </thead>\n",
       "  <tbody>\n",
       "    <tr>\n",
       "      <th>0</th>\n",
       "      <td>892</td>\n",
       "      <td>0</td>\n",
       "    </tr>\n",
       "    <tr>\n",
       "      <th>1</th>\n",
       "      <td>893</td>\n",
       "      <td>1</td>\n",
       "    </tr>\n",
       "    <tr>\n",
       "      <th>2</th>\n",
       "      <td>894</td>\n",
       "      <td>0</td>\n",
       "    </tr>\n",
       "    <tr>\n",
       "      <th>3</th>\n",
       "      <td>895</td>\n",
       "      <td>0</td>\n",
       "    </tr>\n",
       "    <tr>\n",
       "      <th>4</th>\n",
       "      <td>896</td>\n",
       "      <td>1</td>\n",
       "    </tr>\n",
       "  </tbody>\n",
       "</table>\n",
       "</div>"
      ],
      "text/plain": [
       "   PassengerId  Survived\n",
       "0          892         0\n",
       "1          893         1\n",
       "2          894         0\n",
       "3          895         0\n",
       "4          896         1"
      ]
     },
     "metadata": {},
     "output_type": "display_data"
    }
   ],
   "source": [
    "print(sub.shape)\n",
    "display(sub.head())"
   ]
  },
  {
   "cell_type": "markdown",
   "metadata": {
    "papermill": {
     "duration": 0.020564,
     "end_time": "2020-10-13T09:10:51.312774",
     "exception": false,
     "start_time": "2020-10-13T09:10:51.292210",
     "status": "completed"
    },
    "tags": []
   },
   "source": [
    "###欠損値の補完"
   ]
  },
  {
   "cell_type": "code",
   "execution_count": 6,
   "metadata": {
    "execution": {
     "iopub.execute_input": "2020-10-13T09:10:51.363659Z",
     "iopub.status.busy": "2020-10-13T09:10:51.362994Z",
     "iopub.status.idle": "2020-10-13T09:10:51.365830Z",
     "shell.execute_reply": "2020-10-13T09:10:51.365432Z"
    },
    "papermill": {
     "duration": 0.03273,
     "end_time": "2020-10-13T09:10:51.365904",
     "exception": false,
     "start_time": "2020-10-13T09:10:51.333174",
     "status": "completed"
    },
    "tags": []
   },
   "outputs": [],
   "source": [
    "df_all = pd.concat([train, test])"
   ]
  },
  {
   "cell_type": "code",
   "execution_count": 7,
   "metadata": {
    "execution": {
     "iopub.execute_input": "2020-10-13T09:10:51.412576Z",
     "iopub.status.busy": "2020-10-13T09:10:51.411989Z",
     "iopub.status.idle": "2020-10-13T09:10:51.416037Z",
     "shell.execute_reply": "2020-10-13T09:10:51.415663Z"
    },
    "papermill": {
     "duration": 0.029496,
     "end_time": "2020-10-13T09:10:51.416130",
     "exception": false,
     "start_time": "2020-10-13T09:10:51.386634",
     "status": "completed"
    },
    "tags": []
   },
   "outputs": [
    {
     "data": {
      "text/plain": [
       "PassengerId      0\n",
       "Survived         0\n",
       "Pclass           0\n",
       "Name             0\n",
       "Sex              0\n",
       "Age            177\n",
       "SibSp            0\n",
       "Parch            0\n",
       "Ticket           0\n",
       "Fare             0\n",
       "Cabin          687\n",
       "Embarked         2\n",
       "dtype: int64"
      ]
     },
     "execution_count": 7,
     "metadata": {},
     "output_type": "execute_result"
    }
   ],
   "source": [
    "train.isnull().sum()"
   ]
  },
  {
   "cell_type": "code",
   "execution_count": 8,
   "metadata": {
    "execution": {
     "iopub.execute_input": "2020-10-13T09:10:51.463789Z",
     "iopub.status.busy": "2020-10-13T09:10:51.463364Z",
     "iopub.status.idle": "2020-10-13T09:10:51.467766Z",
     "shell.execute_reply": "2020-10-13T09:10:51.467318Z"
    },
    "papermill": {
     "duration": 0.030537,
     "end_time": "2020-10-13T09:10:51.467841",
     "exception": false,
     "start_time": "2020-10-13T09:10:51.437304",
     "status": "completed"
    },
    "tags": []
   },
   "outputs": [
    {
     "data": {
      "text/plain": [
       "PassengerId      0\n",
       "Pclass           0\n",
       "Name             0\n",
       "Sex              0\n",
       "Age             86\n",
       "SibSp            0\n",
       "Parch            0\n",
       "Ticket           0\n",
       "Fare             1\n",
       "Cabin          327\n",
       "Embarked         0\n",
       "dtype: int64"
      ]
     },
     "execution_count": 8,
     "metadata": {},
     "output_type": "execute_result"
    }
   ],
   "source": [
    "test.isnull().sum()"
   ]
  },
  {
   "cell_type": "code",
   "execution_count": 9,
   "metadata": {
    "execution": {
     "iopub.execute_input": "2020-10-13T09:10:51.514829Z",
     "iopub.status.busy": "2020-10-13T09:10:51.514325Z",
     "iopub.status.idle": "2020-10-13T09:10:51.517040Z",
     "shell.execute_reply": "2020-10-13T09:10:51.516592Z"
    },
    "papermill": {
     "duration": 0.027656,
     "end_time": "2020-10-13T09:10:51.517129",
     "exception": false,
     "start_time": "2020-10-13T09:10:51.489473",
     "status": "completed"
    },
    "tags": []
   },
   "outputs": [],
   "source": [
    "#Embarked\n",
    "train['Embarked'].fillna('S', inplace = True)"
   ]
  },
  {
   "cell_type": "code",
   "execution_count": 10,
   "metadata": {
    "execution": {
     "iopub.execute_input": "2020-10-13T09:10:51.565562Z",
     "iopub.status.busy": "2020-10-13T09:10:51.565112Z",
     "iopub.status.idle": "2020-10-13T09:10:51.568294Z",
     "shell.execute_reply": "2020-10-13T09:10:51.567674Z"
    },
    "papermill": {
     "duration": 0.029043,
     "end_time": "2020-10-13T09:10:51.568367",
     "exception": false,
     "start_time": "2020-10-13T09:10:51.539324",
     "status": "completed"
    },
    "tags": []
   },
   "outputs": [],
   "source": [
    "#Fare\n",
    "fare_avg = df_all['Fare'].mean()\n",
    "test['Fare'].fillna(fare_avg, inplace=True)"
   ]
  },
  {
   "cell_type": "code",
   "execution_count": 11,
   "metadata": {
    "execution": {
     "iopub.execute_input": "2020-10-13T09:10:51.617571Z",
     "iopub.status.busy": "2020-10-13T09:10:51.617020Z",
     "iopub.status.idle": "2020-10-13T09:10:51.619780Z",
     "shell.execute_reply": "2020-10-13T09:10:51.619428Z"
    },
    "papermill": {
     "duration": 0.029369,
     "end_time": "2020-10-13T09:10:51.619854",
     "exception": false,
     "start_time": "2020-10-13T09:10:51.590485",
     "status": "completed"
    },
    "tags": []
   },
   "outputs": [],
   "source": [
    "#age\n",
    "age_avg = df_all['Age'].mean()\n",
    "train['Age'].fillna(age_avg, inplace = True)\n",
    "test['Age'].fillna(age_avg, inplace = True)"
   ]
  },
  {
   "cell_type": "code",
   "execution_count": 12,
   "metadata": {
    "execution": {
     "iopub.execute_input": "2020-10-13T09:10:51.670294Z",
     "iopub.status.busy": "2020-10-13T09:10:51.669715Z",
     "iopub.status.idle": "2020-10-13T09:10:51.672726Z",
     "shell.execute_reply": "2020-10-13T09:10:51.672376Z"
    },
    "papermill": {
     "duration": 0.031115,
     "end_time": "2020-10-13T09:10:51.672798",
     "exception": false,
     "start_time": "2020-10-13T09:10:51.641683",
     "status": "completed"
    },
    "tags": []
   },
   "outputs": [],
   "source": [
    "#Cabinは欠損値が多すぎるので削除\n",
    "train.drop('Cabin',axis=1,inplace=True)\n",
    "test.drop('Cabin',axis=1,inplace=True)"
   ]
  },
  {
   "cell_type": "markdown",
   "metadata": {
    "papermill": {
     "duration": 0.021337,
     "end_time": "2020-10-13T09:10:51.715400",
     "exception": false,
     "start_time": "2020-10-13T09:10:51.694063",
     "status": "completed"
    },
    "tags": []
   },
   "source": [
    "###データの選別"
   ]
  },
  {
   "cell_type": "code",
   "execution_count": 13,
   "metadata": {
    "execution": {
     "iopub.execute_input": "2020-10-13T09:10:51.767233Z",
     "iopub.status.busy": "2020-10-13T09:10:51.766600Z",
     "iopub.status.idle": "2020-10-13T09:10:51.768822Z",
     "shell.execute_reply": "2020-10-13T09:10:51.769204Z"
    },
    "papermill": {
     "duration": 0.031705,
     "end_time": "2020-10-13T09:10:51.769303",
     "exception": false,
     "start_time": "2020-10-13T09:10:51.737598",
     "status": "completed"
    },
    "tags": []
   },
   "outputs": [],
   "source": [
    "#PassengerId\n",
    "#単なる客番号であり、生存の有無には関係ないので削除\n",
    "train.drop('PassengerId',axis=1,inplace=True)\n",
    "test.drop('PassengerId',axis=1,inplace=True)"
   ]
  },
  {
   "cell_type": "code",
   "execution_count": 14,
   "metadata": {
    "execution": {
     "iopub.execute_input": "2020-10-13T09:10:51.819284Z",
     "iopub.status.busy": "2020-10-13T09:10:51.818684Z",
     "iopub.status.idle": "2020-10-13T09:10:51.821671Z",
     "shell.execute_reply": "2020-10-13T09:10:51.821308Z"
    },
    "papermill": {
     "duration": 0.030229,
     "end_time": "2020-10-13T09:10:51.821745",
     "exception": false,
     "start_time": "2020-10-13T09:10:51.791516",
     "status": "completed"
    },
    "tags": []
   },
   "outputs": [],
   "source": [
    "#Name\n",
    "#数値化が難しいので削除\n",
    "train.drop('Name',axis=1,inplace=True)\n",
    "test.drop('Name',axis=1,inplace=True)"
   ]
  },
  {
   "cell_type": "code",
   "execution_count": 15,
   "metadata": {
    "execution": {
     "iopub.execute_input": "2020-10-13T09:10:51.871016Z",
     "iopub.status.busy": "2020-10-13T09:10:51.870553Z",
     "iopub.status.idle": "2020-10-13T09:10:51.873040Z",
     "shell.execute_reply": "2020-10-13T09:10:51.872671Z"
    },
    "papermill": {
     "duration": 0.029554,
     "end_time": "2020-10-13T09:10:51.873130",
     "exception": false,
     "start_time": "2020-10-13T09:10:51.843576",
     "status": "completed"
    },
    "tags": []
   },
   "outputs": [],
   "source": [
    "#Ticket\n",
    "#数値化が難しいので削除\n",
    "train.drop('Ticket',axis=1,inplace=True)\n",
    "test.drop('Ticket',axis=1,inplace=True)"
   ]
  },
  {
   "cell_type": "markdown",
   "metadata": {
    "papermill": {
     "duration": 0.021904,
     "end_time": "2020-10-13T09:10:51.918358",
     "exception": false,
     "start_time": "2020-10-13T09:10:51.896454",
     "status": "completed"
    },
    "tags": []
   },
   "source": [
    "###カテゴリ変数の数値化"
   ]
  },
  {
   "cell_type": "code",
   "execution_count": 16,
   "metadata": {
    "execution": {
     "iopub.execute_input": "2020-10-13T09:10:51.968801Z",
     "iopub.status.busy": "2020-10-13T09:10:51.968080Z",
     "iopub.status.idle": "2020-10-13T09:10:51.976208Z",
     "shell.execute_reply": "2020-10-13T09:10:51.975752Z"
    },
    "papermill": {
     "duration": 0.036251,
     "end_time": "2020-10-13T09:10:51.976282",
     "exception": false,
     "start_time": "2020-10-13T09:10:51.940031",
     "status": "completed"
    },
    "tags": []
   },
   "outputs": [],
   "source": [
    "sex = df_all['Sex']\n",
    "sex_dummies = pd.get_dummies(sex)\n",
    "\n",
    "sex_dummies_train = sex_dummies[:891]\n",
    "sex_dummies_test = sex_dummies[891:]\n",
    "\n",
    "train = pd.concat([train,sex_dummies_train], axis=1)\n",
    "test= pd.concat([test,sex_dummies_test],axis=1)\n",
    "\n",
    "train.drop('Sex',axis=1,inplace=True)\n",
    "test.drop('Sex',axis=1,inplace=True)"
   ]
  },
  {
   "cell_type": "code",
   "execution_count": 17,
   "metadata": {
    "execution": {
     "iopub.execute_input": "2020-10-13T09:10:52.035301Z",
     "iopub.status.busy": "2020-10-13T09:10:52.034145Z",
     "iopub.status.idle": "2020-10-13T09:10:52.037707Z",
     "shell.execute_reply": "2020-10-13T09:10:52.037332Z"
    },
    "papermill": {
     "duration": 0.03962,
     "end_time": "2020-10-13T09:10:52.037790",
     "exception": false,
     "start_time": "2020-10-13T09:10:51.998170",
     "status": "completed"
    },
    "tags": []
   },
   "outputs": [],
   "source": [
    "embarked = df_all['Embarked']\n",
    "embarked_dummies = pd.get_dummies(embarked)\n",
    "\n",
    "embarked_dummies_train = embarked_dummies[:891]\n",
    "embarked_dummies_test = embarked_dummies[891:]\n",
    "\n",
    "train = pd.concat([train,embarked_dummies_train],axis=1)\n",
    "test = pd.concat([test,embarked_dummies_test],axis=1)\n",
    "\n",
    "train.drop('Embarked',axis=1,inplace=True)\n",
    "test.drop('Embarked',axis=1,inplace=True)"
   ]
  },
  {
   "cell_type": "markdown",
   "metadata": {
    "papermill": {
     "duration": 0.021779,
     "end_time": "2020-10-13T09:10:52.081945",
     "exception": false,
     "start_time": "2020-10-13T09:10:52.060166",
     "status": "completed"
    },
    "tags": []
   },
   "source": [
    "###加工後のデータの確認"
   ]
  },
  {
   "cell_type": "code",
   "execution_count": 18,
   "metadata": {
    "execution": {
     "iopub.execute_input": "2020-10-13T09:10:52.135019Z",
     "iopub.status.busy": "2020-10-13T09:10:52.134356Z",
     "iopub.status.idle": "2020-10-13T09:10:52.138981Z",
     "shell.execute_reply": "2020-10-13T09:10:52.138632Z"
    },
    "papermill": {
     "duration": 0.035313,
     "end_time": "2020-10-13T09:10:52.139055",
     "exception": false,
     "start_time": "2020-10-13T09:10:52.103742",
     "status": "completed"
    },
    "tags": []
   },
   "outputs": [
    {
     "name": "stdout",
     "output_type": "stream",
     "text": [
      "(891, 11)\n"
     ]
    },
    {
     "data": {
      "text/html": [
       "<div>\n",
       "<style scoped>\n",
       "    .dataframe tbody tr th:only-of-type {\n",
       "        vertical-align: middle;\n",
       "    }\n",
       "\n",
       "    .dataframe tbody tr th {\n",
       "        vertical-align: top;\n",
       "    }\n",
       "\n",
       "    .dataframe thead th {\n",
       "        text-align: right;\n",
       "    }\n",
       "</style>\n",
       "<table border=\"1\" class=\"dataframe\">\n",
       "  <thead>\n",
       "    <tr style=\"text-align: right;\">\n",
       "      <th></th>\n",
       "      <th>Survived</th>\n",
       "      <th>Pclass</th>\n",
       "      <th>Age</th>\n",
       "      <th>SibSp</th>\n",
       "      <th>Parch</th>\n",
       "      <th>Fare</th>\n",
       "      <th>female</th>\n",
       "      <th>male</th>\n",
       "      <th>C</th>\n",
       "      <th>Q</th>\n",
       "      <th>S</th>\n",
       "    </tr>\n",
       "  </thead>\n",
       "  <tbody>\n",
       "    <tr>\n",
       "      <th>0</th>\n",
       "      <td>0</td>\n",
       "      <td>3</td>\n",
       "      <td>22.0</td>\n",
       "      <td>1</td>\n",
       "      <td>0</td>\n",
       "      <td>7.2500</td>\n",
       "      <td>0</td>\n",
       "      <td>1</td>\n",
       "      <td>0</td>\n",
       "      <td>0</td>\n",
       "      <td>1</td>\n",
       "    </tr>\n",
       "    <tr>\n",
       "      <th>1</th>\n",
       "      <td>1</td>\n",
       "      <td>1</td>\n",
       "      <td>38.0</td>\n",
       "      <td>1</td>\n",
       "      <td>0</td>\n",
       "      <td>71.2833</td>\n",
       "      <td>1</td>\n",
       "      <td>0</td>\n",
       "      <td>1</td>\n",
       "      <td>0</td>\n",
       "      <td>0</td>\n",
       "    </tr>\n",
       "    <tr>\n",
       "      <th>2</th>\n",
       "      <td>1</td>\n",
       "      <td>3</td>\n",
       "      <td>26.0</td>\n",
       "      <td>0</td>\n",
       "      <td>0</td>\n",
       "      <td>7.9250</td>\n",
       "      <td>1</td>\n",
       "      <td>0</td>\n",
       "      <td>0</td>\n",
       "      <td>0</td>\n",
       "      <td>1</td>\n",
       "    </tr>\n",
       "    <tr>\n",
       "      <th>3</th>\n",
       "      <td>1</td>\n",
       "      <td>1</td>\n",
       "      <td>35.0</td>\n",
       "      <td>1</td>\n",
       "      <td>0</td>\n",
       "      <td>53.1000</td>\n",
       "      <td>1</td>\n",
       "      <td>0</td>\n",
       "      <td>0</td>\n",
       "      <td>0</td>\n",
       "      <td>1</td>\n",
       "    </tr>\n",
       "    <tr>\n",
       "      <th>4</th>\n",
       "      <td>0</td>\n",
       "      <td>3</td>\n",
       "      <td>35.0</td>\n",
       "      <td>0</td>\n",
       "      <td>0</td>\n",
       "      <td>8.0500</td>\n",
       "      <td>0</td>\n",
       "      <td>1</td>\n",
       "      <td>0</td>\n",
       "      <td>0</td>\n",
       "      <td>1</td>\n",
       "    </tr>\n",
       "  </tbody>\n",
       "</table>\n",
       "</div>"
      ],
      "text/plain": [
       "   Survived  Pclass   Age  SibSp  Parch     Fare  female  male  C  Q  S\n",
       "0         0       3  22.0      1      0   7.2500       0     1  0  0  1\n",
       "1         1       1  38.0      1      0  71.2833       1     0  1  0  0\n",
       "2         1       3  26.0      0      0   7.9250       1     0  0  0  1\n",
       "3         1       1  35.0      1      0  53.1000       1     0  0  0  1\n",
       "4         0       3  35.0      0      0   8.0500       0     1  0  0  1"
      ]
     },
     "metadata": {},
     "output_type": "display_data"
    }
   ],
   "source": [
    "print(train.shape)\n",
    "display(train.head())"
   ]
  },
  {
   "cell_type": "code",
   "execution_count": 19,
   "metadata": {
    "execution": {
     "iopub.execute_input": "2020-10-13T09:10:52.194463Z",
     "iopub.status.busy": "2020-10-13T09:10:52.193732Z",
     "iopub.status.idle": "2020-10-13T09:10:52.197983Z",
     "shell.execute_reply": "2020-10-13T09:10:52.197430Z"
    },
    "papermill": {
     "duration": 0.036264,
     "end_time": "2020-10-13T09:10:52.198074",
     "exception": false,
     "start_time": "2020-10-13T09:10:52.161810",
     "status": "completed"
    },
    "tags": []
   },
   "outputs": [
    {
     "name": "stdout",
     "output_type": "stream",
     "text": [
      "(418, 10)\n"
     ]
    },
    {
     "data": {
      "text/html": [
       "<div>\n",
       "<style scoped>\n",
       "    .dataframe tbody tr th:only-of-type {\n",
       "        vertical-align: middle;\n",
       "    }\n",
       "\n",
       "    .dataframe tbody tr th {\n",
       "        vertical-align: top;\n",
       "    }\n",
       "\n",
       "    .dataframe thead th {\n",
       "        text-align: right;\n",
       "    }\n",
       "</style>\n",
       "<table border=\"1\" class=\"dataframe\">\n",
       "  <thead>\n",
       "    <tr style=\"text-align: right;\">\n",
       "      <th></th>\n",
       "      <th>Pclass</th>\n",
       "      <th>Age</th>\n",
       "      <th>SibSp</th>\n",
       "      <th>Parch</th>\n",
       "      <th>Fare</th>\n",
       "      <th>female</th>\n",
       "      <th>male</th>\n",
       "      <th>C</th>\n",
       "      <th>Q</th>\n",
       "      <th>S</th>\n",
       "    </tr>\n",
       "  </thead>\n",
       "  <tbody>\n",
       "    <tr>\n",
       "      <th>0</th>\n",
       "      <td>3</td>\n",
       "      <td>34.5</td>\n",
       "      <td>0</td>\n",
       "      <td>0</td>\n",
       "      <td>7.8292</td>\n",
       "      <td>0</td>\n",
       "      <td>1</td>\n",
       "      <td>0</td>\n",
       "      <td>1</td>\n",
       "      <td>0</td>\n",
       "    </tr>\n",
       "    <tr>\n",
       "      <th>1</th>\n",
       "      <td>3</td>\n",
       "      <td>47.0</td>\n",
       "      <td>1</td>\n",
       "      <td>0</td>\n",
       "      <td>7.0000</td>\n",
       "      <td>1</td>\n",
       "      <td>0</td>\n",
       "      <td>0</td>\n",
       "      <td>0</td>\n",
       "      <td>1</td>\n",
       "    </tr>\n",
       "    <tr>\n",
       "      <th>2</th>\n",
       "      <td>2</td>\n",
       "      <td>62.0</td>\n",
       "      <td>0</td>\n",
       "      <td>0</td>\n",
       "      <td>9.6875</td>\n",
       "      <td>0</td>\n",
       "      <td>1</td>\n",
       "      <td>0</td>\n",
       "      <td>1</td>\n",
       "      <td>0</td>\n",
       "    </tr>\n",
       "    <tr>\n",
       "      <th>3</th>\n",
       "      <td>3</td>\n",
       "      <td>27.0</td>\n",
       "      <td>0</td>\n",
       "      <td>0</td>\n",
       "      <td>8.6625</td>\n",
       "      <td>0</td>\n",
       "      <td>1</td>\n",
       "      <td>0</td>\n",
       "      <td>0</td>\n",
       "      <td>1</td>\n",
       "    </tr>\n",
       "    <tr>\n",
       "      <th>4</th>\n",
       "      <td>3</td>\n",
       "      <td>22.0</td>\n",
       "      <td>1</td>\n",
       "      <td>1</td>\n",
       "      <td>12.2875</td>\n",
       "      <td>1</td>\n",
       "      <td>0</td>\n",
       "      <td>0</td>\n",
       "      <td>0</td>\n",
       "      <td>1</td>\n",
       "    </tr>\n",
       "  </tbody>\n",
       "</table>\n",
       "</div>"
      ],
      "text/plain": [
       "   Pclass   Age  SibSp  Parch     Fare  female  male  C  Q  S\n",
       "0       3  34.5      0      0   7.8292       0     1  0  1  0\n",
       "1       3  47.0      1      0   7.0000       1     0  0  0  1\n",
       "2       2  62.0      0      0   9.6875       0     1  0  1  0\n",
       "3       3  27.0      0      0   8.6625       0     1  0  0  1\n",
       "4       3  22.0      1      1  12.2875       1     0  0  0  1"
      ]
     },
     "metadata": {},
     "output_type": "display_data"
    }
   ],
   "source": [
    "print(test.shape)\n",
    "display(test.head())"
   ]
  },
  {
   "cell_type": "markdown",
   "metadata": {
    "papermill": {
     "duration": 0.035029,
     "end_time": "2020-10-13T09:10:52.269212",
     "exception": false,
     "start_time": "2020-10-13T09:10:52.234183",
     "status": "completed"
    },
    "tags": []
   },
   "source": [
    "###学習の前準備"
   ]
  },
  {
   "cell_type": "code",
   "execution_count": 20,
   "metadata": {
    "execution": {
     "iopub.execute_input": "2020-10-13T09:10:52.346025Z",
     "iopub.status.busy": "2020-10-13T09:10:52.345566Z",
     "iopub.status.idle": "2020-10-13T09:10:52.347922Z",
     "shell.execute_reply": "2020-10-13T09:10:52.347563Z"
    },
    "papermill": {
     "duration": 0.0435,
     "end_time": "2020-10-13T09:10:52.347996",
     "exception": false,
     "start_time": "2020-10-13T09:10:52.304496",
     "status": "completed"
    },
    "tags": []
   },
   "outputs": [],
   "source": [
    "X = train.drop('Survived',axis=1).values\n",
    "y = train['Survived'].values\n",
    "\n",
    "X_test = test.values"
   ]
  },
  {
   "cell_type": "code",
   "execution_count": 21,
   "metadata": {
    "execution": {
     "iopub.execute_input": "2020-10-13T09:10:52.401741Z",
     "iopub.status.busy": "2020-10-13T09:10:52.401173Z",
     "iopub.status.idle": "2020-10-13T09:10:52.404440Z",
     "shell.execute_reply": "2020-10-13T09:10:52.403889Z"
    },
    "papermill": {
     "duration": 0.032373,
     "end_time": "2020-10-13T09:10:52.404532",
     "exception": false,
     "start_time": "2020-10-13T09:10:52.372159",
     "status": "completed"
    },
    "tags": []
   },
   "outputs": [],
   "source": [
    "X_train,X_valid,y_train,y_valid=train_test_split(X,y,test_size=0.3,random_state=71)"
   ]
  },
  {
   "cell_type": "markdown",
   "metadata": {
    "papermill": {
     "duration": 0.036057,
     "end_time": "2020-10-13T09:10:52.477648",
     "exception": false,
     "start_time": "2020-10-13T09:10:52.441591",
     "status": "completed"
    },
    "tags": []
   },
   "source": [
    "###モデル構築"
   ]
  },
  {
   "cell_type": "code",
   "execution_count": 22,
   "metadata": {
    "execution": {
     "iopub.execute_input": "2020-10-13T09:10:52.552986Z",
     "iopub.status.busy": "2020-10-13T09:10:52.552554Z",
     "iopub.status.idle": "2020-10-13T09:10:52.555194Z",
     "shell.execute_reply": "2020-10-13T09:10:52.554811Z"
    },
    "papermill": {
     "duration": 0.041815,
     "end_time": "2020-10-13T09:10:52.555269",
     "exception": false,
     "start_time": "2020-10-13T09:10:52.513454",
     "status": "completed"
    },
    "tags": []
   },
   "outputs": [],
   "source": [
    "max_depth_list=[3,4,5,6,7,8,9]\n",
    "min_child_weight_list=[1,2,3,4,5]"
   ]
  },
  {
   "cell_type": "code",
   "execution_count": 23,
   "metadata": {
    "execution": {
     "iopub.execute_input": "2020-10-13T09:10:52.611108Z",
     "iopub.status.busy": "2020-10-13T09:10:52.610650Z",
     "iopub.status.idle": "2020-10-13T09:10:53.414895Z",
     "shell.execute_reply": "2020-10-13T09:10:53.415503Z"
    },
    "papermill": {
     "duration": 0.835993,
     "end_time": "2020-10-13T09:10:53.415639",
     "exception": false,
     "start_time": "2020-10-13T09:10:52.579646",
     "status": "completed"
    },
    "tags": []
   },
   "outputs": [
    {
     "name": "stdout",
     "output_type": "stream",
     "text": [
      "max_depth: 6 min_child_weight: 4\n",
      "Train Score: 0.8764044943820225 Valid Score: 0.8470149253731343\n",
      "max_depth: 3 min_child_weight: 1\n",
      "Train Score: 0.8475120385232745 Valid Score: 0.8432835820895522\n",
      "max_depth: 5 min_child_weight: 2\n",
      "Train Score: 0.8860353130016051 Valid Score: 0.8395522388059702\n",
      "max_depth: 3 min_child_weight: 3\n",
      "Train Score: 0.8426966292134831 Valid Score: 0.8432835820895522\n",
      "max_depth: 9 min_child_weight: 2\n",
      "Train Score: 0.9036918138041734 Valid Score: 0.8470149253731343\n",
      "max_depth: 9 min_child_weight: 4\n",
      "Train Score: 0.8812199036918138 Valid Score: 0.8432835820895522\n",
      "max_depth: 4 min_child_weight: 1\n",
      "Train Score: 0.8651685393258427 Valid Score: 0.8507462686567164\n",
      "max_depth: 3 min_child_weight: 4\n",
      "Train Score: 0.841091492776886 Valid Score: 0.8507462686567164\n",
      "max_depth: 8 min_child_weight: 1\n",
      "Train Score: 0.9213483146067416 Valid Score: 0.832089552238806\n",
      "max_depth: 3 min_child_weight: 2\n",
      "Train Score: 0.8523274478330658 Valid Score: 0.835820895522388\n",
      "max_depth: 3 min_child_weight: 5\n",
      "Train Score: 0.8443017656500803 Valid Score: 0.8507462686567164\n",
      "max_depth: 8 min_child_weight: 1\n",
      "Train Score: 0.9213483146067416 Valid Score: 0.832089552238806\n",
      "max_depth: 5 min_child_weight: 2\n",
      "Train Score: 0.8860353130016051 Valid Score: 0.8395522388059702\n",
      "max_depth: 6 min_child_weight: 3\n",
      "Train Score: 0.8860353130016051 Valid Score: 0.8470149253731343\n",
      "max_depth: 5 min_child_weight: 4\n",
      "Train Score: 0.8731942215088283 Valid Score: 0.8432835820895522\n",
      "max_depth: 9 min_child_weight: 3\n",
      "Train Score: 0.8908507223113965 Valid Score: 0.835820895522388\n",
      "max_depth: 5 min_child_weight: 5\n",
      "Train Score: 0.8731942215088283 Valid Score: 0.8432835820895522\n",
      "max_depth: 4 min_child_weight: 3\n",
      "Train Score: 0.8651685393258427 Valid Score: 0.835820895522388\n",
      "max_depth: 6 min_child_weight: 1\n",
      "Train Score: 0.9036918138041734 Valid Score: 0.832089552238806\n",
      "max_depth: 3 min_child_weight: 2\n",
      "Train Score: 0.8523274478330658 Valid Score: 0.835820895522388\n"
     ]
    }
   ],
   "source": [
    "#ランダムサーチ\n",
    "random_search_params=[]\n",
    "trials=20\n",
    "np.random.seed(71)\n",
    "\n",
    "#ハイパーパラメータの探索\n",
    "for i in range(trials):\n",
    "    max_depth=np.random.choice(max_depth_list)\n",
    "    min_child_weight=np.random.choice(min_child_weight_list)\n",
    "    random_search_params.append((max_depth,min_child_weight))\n",
    "\n",
    "    model=XGBClassifier(booster='gbtree',random_state=71,learning_rate=0.05,objective='binary:logistic',n_estimators=100,\n",
    "                    max_depth=max_depth,min_child_weight=min_child_weight)\n",
    "\n",
    "    model.fit(X_train,y_train)\n",
    "\n",
    "    #モデルの評価\n",
    "    train_pred=model.predict(X_train)\n",
    "    valid_pred=model.predict(X_valid)\n",
    "\n",
    "    train_acc=accuracy_score(y_train,train_pred)\n",
    "    valid_acc=accuracy_score(y_valid,valid_pred)\n",
    "\n",
    "    print('max_depth:',max_depth,'min_child_weight:',min_child_weight)\n",
    "    print('Train Score:',train_acc,'Valid Score:',valid_acc)"
   ]
  },
  {
   "cell_type": "code",
   "execution_count": 24,
   "metadata": {
    "execution": {
     "iopub.execute_input": "2020-10-13T09:10:53.483644Z",
     "iopub.status.busy": "2020-10-13T09:10:53.483057Z",
     "iopub.status.idle": "2020-10-13T09:10:53.485445Z",
     "shell.execute_reply": "2020-10-13T09:10:53.485840Z"
    },
    "papermill": {
     "duration": 0.038262,
     "end_time": "2020-10-13T09:10:53.485948",
     "exception": false,
     "start_time": "2020-10-13T09:10:53.447686",
     "status": "completed"
    },
    "tags": []
   },
   "outputs": [],
   "source": [
    "#範囲を変えてもう一度\n",
    "max_depth_list=[2,3,4,5,6]\n",
    "min_child_weight=[1,2,3,4,5,6,7]"
   ]
  },
  {
   "cell_type": "code",
   "execution_count": 25,
   "metadata": {
    "execution": {
     "iopub.execute_input": "2020-10-13T09:10:53.565360Z",
     "iopub.status.busy": "2020-10-13T09:10:53.564833Z",
     "iopub.status.idle": "2020-10-13T09:10:54.587442Z",
     "shell.execute_reply": "2020-10-13T09:10:54.588648Z"
    },
    "papermill": {
     "duration": 1.07182,
     "end_time": "2020-10-13T09:10:54.588893",
     "exception": false,
     "start_time": "2020-10-13T09:10:53.517073",
     "status": "completed"
    },
    "tags": []
   },
   "outputs": [
    {
     "name": "stdout",
     "output_type": "stream",
     "text": [
      "max_depth: 2 min_child_weight: 1\n",
      "Train Score: 0.8250401284109149 Valid Score: 0.835820895522388\n",
      "max_depth: 2 min_child_weight: 2\n",
      "Train Score: 0.8250401284109149 Valid Score: 0.835820895522388\n",
      "max_depth: 2 min_child_weight: 3\n",
      "Train Score: 0.8282504012841091 Valid Score: 0.8395522388059702\n",
      "max_depth: 2 min_child_weight: 4\n",
      "Train Score: 0.8282504012841091 Valid Score: 0.8395522388059702\n",
      "max_depth: 2 min_child_weight: 5\n",
      "Train Score: 0.8298555377207063 Valid Score: 0.8395522388059702\n",
      "max_depth: 2 min_child_weight: 6\n",
      "Train Score: 0.8346709470304976 Valid Score: 0.8507462686567164\n",
      "max_depth: 2 min_child_weight: 7\n",
      "Train Score: 0.8282504012841091 Valid Score: 0.835820895522388\n",
      "max_depth: 3 min_child_weight: 1\n",
      "Train Score: 0.8475120385232745 Valid Score: 0.8432835820895522\n",
      "max_depth: 3 min_child_weight: 2\n",
      "Train Score: 0.8523274478330658 Valid Score: 0.835820895522388\n",
      "max_depth: 3 min_child_weight: 3\n",
      "Train Score: 0.8426966292134831 Valid Score: 0.8432835820895522\n",
      "max_depth: 3 min_child_weight: 4\n",
      "Train Score: 0.841091492776886 Valid Score: 0.8507462686567164\n",
      "max_depth: 3 min_child_weight: 5\n",
      "Train Score: 0.8443017656500803 Valid Score: 0.8507462686567164\n",
      "max_depth: 3 min_child_weight: 6\n",
      "Train Score: 0.841091492776886 Valid Score: 0.8507462686567164\n",
      "max_depth: 3 min_child_weight: 7\n",
      "Train Score: 0.8378812199036918 Valid Score: 0.8432835820895522\n",
      "max_depth: 4 min_child_weight: 1\n",
      "Train Score: 0.8651685393258427 Valid Score: 0.8507462686567164\n",
      "max_depth: 4 min_child_weight: 2\n",
      "Train Score: 0.869983948635634 Valid Score: 0.8507462686567164\n",
      "max_depth: 4 min_child_weight: 3\n",
      "Train Score: 0.8651685393258427 Valid Score: 0.835820895522388\n",
      "max_depth: 4 min_child_weight: 4\n",
      "Train Score: 0.8635634028892456 Valid Score: 0.8432835820895522\n",
      "max_depth: 4 min_child_weight: 5\n",
      "Train Score: 0.8587479935794543 Valid Score: 0.8507462686567164\n",
      "max_depth: 4 min_child_weight: 6\n",
      "Train Score: 0.85553772070626 Valid Score: 0.8432835820895522\n",
      "max_depth: 4 min_child_weight: 7\n",
      "Train Score: 0.85553772070626 Valid Score: 0.8470149253731343\n",
      "max_depth: 5 min_child_weight: 1\n",
      "Train Score: 0.8924558587479936 Valid Score: 0.8432835820895522\n",
      "max_depth: 5 min_child_weight: 2\n",
      "Train Score: 0.8860353130016051 Valid Score: 0.8395522388059702\n",
      "max_depth: 5 min_child_weight: 3\n",
      "Train Score: 0.884430176565008 Valid Score: 0.8507462686567164\n",
      "max_depth: 5 min_child_weight: 4\n",
      "Train Score: 0.8731942215088283 Valid Score: 0.8432835820895522\n",
      "max_depth: 5 min_child_weight: 5\n",
      "Train Score: 0.8731942215088283 Valid Score: 0.8432835820895522\n",
      "max_depth: 5 min_child_weight: 6\n",
      "Train Score: 0.8619582664526485 Valid Score: 0.835820895522388\n",
      "max_depth: 5 min_child_weight: 7\n",
      "Train Score: 0.8571428571428571 Valid Score: 0.832089552238806\n",
      "max_depth: 6 min_child_weight: 1\n",
      "Train Score: 0.9036918138041734 Valid Score: 0.832089552238806\n",
      "max_depth: 6 min_child_weight: 2\n",
      "Train Score: 0.8956661316211878 Valid Score: 0.835820895522388\n",
      "max_depth: 6 min_child_weight: 3\n",
      "Train Score: 0.8860353130016051 Valid Score: 0.8470149253731343\n",
      "max_depth: 6 min_child_weight: 4\n",
      "Train Score: 0.8764044943820225 Valid Score: 0.8470149253731343\n",
      "max_depth: 6 min_child_weight: 5\n",
      "Train Score: 0.8747993579454254 Valid Score: 0.8395522388059702\n",
      "max_depth: 6 min_child_weight: 6\n",
      "Train Score: 0.8635634028892456 Valid Score: 0.8395522388059702\n",
      "max_depth: 6 min_child_weight: 7\n",
      "Train Score: 0.8619582664526485 Valid Score: 0.832089552238806\n"
     ]
    }
   ],
   "source": [
    "#グリッドサーチ\n",
    "grid_search_list=[]\n",
    "\n",
    "for max_depth in range(2,7,1):\n",
    "    for min_child_weight in range(1,8,1):\n",
    "        grid_search_list.append((max_depth,min_child_weight))\n",
    "\n",
    "        model=XGBClassifier(booster='gbtree',random_state=71,learning_rate=0.05,objective='binary:logistic',n_estimators=100,\n",
    "                    max_depth=max_depth,min_child_weight=min_child_weight)\n",
    "\n",
    "        model.fit(X_train,y_train)\n",
    "\n",
    "        #モデルの評価\n",
    "        train_pred=model.predict(X_train)\n",
    "        valid_pred=model.predict(X_valid)\n",
    "\n",
    "        train_acc=accuracy_score(y_train,train_pred)\n",
    "        valid_acc=accuracy_score(y_valid,valid_pred)\n",
    "\n",
    "        print('max_depth:',max_depth,'min_child_weight:',min_child_weight)\n",
    "        print('Train Score:',train_acc,'Valid Score:',valid_acc)"
   ]
  },
  {
   "cell_type": "code",
   "execution_count": 26,
   "metadata": {
    "execution": {
     "iopub.execute_input": "2020-10-13T09:10:54.662202Z",
     "iopub.status.busy": "2020-10-13T09:10:54.661595Z",
     "iopub.status.idle": "2020-10-13T09:10:54.663124Z",
     "shell.execute_reply": "2020-10-13T09:10:54.662679Z"
    },
    "papermill": {
     "duration": 0.040161,
     "end_time": "2020-10-13T09:10:54.663206",
     "exception": false,
     "start_time": "2020-10-13T09:10:54.623045",
     "status": "completed"
    },
    "tags": []
   },
   "outputs": [],
   "source": [
    "#よさそうなパラメータを選ぶ\n",
    "model=XGBClassifier(booster='gbtree',random_state=71,learning_rate=0.05,objective='binary:logistic',\n",
    "                    n_estimators=100,max_depth=3,min_child_weight=4)"
   ]
  },
  {
   "cell_type": "markdown",
   "metadata": {
    "papermill": {
     "duration": 0.032708,
     "end_time": "2020-10-13T09:10:54.729283",
     "exception": false,
     "start_time": "2020-10-13T09:10:54.696575",
     "status": "completed"
    },
    "tags": []
   },
   "source": [
    "###学習"
   ]
  },
  {
   "cell_type": "code",
   "execution_count": 27,
   "metadata": {
    "execution": {
     "iopub.execute_input": "2020-10-13T09:10:54.797903Z",
     "iopub.status.busy": "2020-10-13T09:10:54.797282Z",
     "iopub.status.idle": "2020-10-13T09:10:54.833309Z",
     "shell.execute_reply": "2020-10-13T09:10:54.833829Z"
    },
    "papermill": {
     "duration": 0.071554,
     "end_time": "2020-10-13T09:10:54.833959",
     "exception": false,
     "start_time": "2020-10-13T09:10:54.762405",
     "status": "completed"
    },
    "tags": []
   },
   "outputs": [
    {
     "data": {
      "text/plain": [
       "XGBClassifier(base_score=0.5, booster='gbtree', colsample_bylevel=1,\n",
       "              colsample_bynode=1, colsample_bytree=1, gamma=0, gpu_id=-1,\n",
       "              importance_type='gain', interaction_constraints='',\n",
       "              learning_rate=0.05, max_delta_step=0, max_depth=3,\n",
       "              min_child_weight=4, missing=nan, monotone_constraints='()',\n",
       "              n_estimators=100, n_jobs=0, num_parallel_tree=1, random_state=71,\n",
       "              reg_alpha=0, reg_lambda=1, scale_pos_weight=1, subsample=1,\n",
       "              tree_method='exact', validate_parameters=1, verbosity=None)"
      ]
     },
     "execution_count": 27,
     "metadata": {},
     "output_type": "execute_result"
    }
   ],
   "source": [
    "model.fit(X_train,y_train)"
   ]
  },
  {
   "cell_type": "markdown",
   "metadata": {
    "papermill": {
     "duration": 0.046427,
     "end_time": "2020-10-13T09:10:54.927896",
     "exception": false,
     "start_time": "2020-10-13T09:10:54.881469",
     "status": "completed"
    },
    "tags": []
   },
   "source": [
    "###モデルの評価"
   ]
  },
  {
   "cell_type": "code",
   "execution_count": 28,
   "metadata": {
    "execution": {
     "iopub.execute_input": "2020-10-13T09:10:55.026870Z",
     "iopub.status.busy": "2020-10-13T09:10:55.026333Z",
     "iopub.status.idle": "2020-10-13T09:10:55.031236Z",
     "shell.execute_reply": "2020-10-13T09:10:55.031623Z"
    },
    "papermill": {
     "duration": 0.057017,
     "end_time": "2020-10-13T09:10:55.031730",
     "exception": false,
     "start_time": "2020-10-13T09:10:54.974713",
     "status": "completed"
    },
    "tags": []
   },
   "outputs": [],
   "source": [
    "train_pred = model.predict(X_train)\n",
    "valid_pred = model.predict(X_valid)\n",
    "\n",
    "train_acc = accuracy_score(y_train,train_pred)\n",
    "valid_acc = accuracy_score(y_valid,valid_pred)"
   ]
  },
  {
   "cell_type": "code",
   "execution_count": 29,
   "metadata": {
    "execution": {
     "iopub.execute_input": "2020-10-13T09:10:55.103722Z",
     "iopub.status.busy": "2020-10-13T09:10:55.103082Z",
     "iopub.status.idle": "2020-10-13T09:10:55.105621Z",
     "shell.execute_reply": "2020-10-13T09:10:55.106044Z"
    },
    "papermill": {
     "duration": 0.040814,
     "end_time": "2020-10-13T09:10:55.106162",
     "exception": false,
     "start_time": "2020-10-13T09:10:55.065348",
     "status": "completed"
    },
    "tags": []
   },
   "outputs": [
    {
     "name": "stdout",
     "output_type": "stream",
     "text": [
      "Train Score: 0.841091492776886\n",
      "Valid Score: 0.8507462686567164\n"
     ]
    }
   ],
   "source": [
    "print('Train Score:',train_acc)\n",
    "print('Valid Score:',valid_acc)"
   ]
  },
  {
   "cell_type": "markdown",
   "metadata": {
    "papermill": {
     "duration": 0.033329,
     "end_time": "2020-10-13T09:10:55.173597",
     "exception": false,
     "start_time": "2020-10-13T09:10:55.140268",
     "status": "completed"
    },
    "tags": []
   },
   "source": [
    "###予測の提出"
   ]
  },
  {
   "cell_type": "code",
   "execution_count": 30,
   "metadata": {
    "execution": {
     "iopub.execute_input": "2020-10-13T09:10:55.242975Z",
     "iopub.status.busy": "2020-10-13T09:10:55.242435Z",
     "iopub.status.idle": "2020-10-13T09:10:55.246567Z",
     "shell.execute_reply": "2020-10-13T09:10:55.246934Z"
    },
    "papermill": {
     "duration": 0.039001,
     "end_time": "2020-10-13T09:10:55.247024",
     "exception": false,
     "start_time": "2020-10-13T09:10:55.208023",
     "status": "completed"
    },
    "tags": []
   },
   "outputs": [],
   "source": [
    "y_pred = model.predict(X_test)"
   ]
  },
  {
   "cell_type": "code",
   "execution_count": 31,
   "metadata": {
    "execution": {
     "iopub.execute_input": "2020-10-13T09:10:55.319517Z",
     "iopub.status.busy": "2020-10-13T09:10:55.318940Z",
     "iopub.status.idle": "2020-10-13T09:10:55.321273Z",
     "shell.execute_reply": "2020-10-13T09:10:55.320783Z"
    },
    "papermill": {
     "duration": 0.039945,
     "end_time": "2020-10-13T09:10:55.321355",
     "exception": false,
     "start_time": "2020-10-13T09:10:55.281410",
     "status": "completed"
    },
    "tags": []
   },
   "outputs": [],
   "source": [
    "sub['Survived'] = y_pred"
   ]
  },
  {
   "cell_type": "code",
   "execution_count": 32,
   "metadata": {
    "execution": {
     "iopub.execute_input": "2020-10-13T09:10:55.394186Z",
     "iopub.status.busy": "2020-10-13T09:10:55.392628Z",
     "iopub.status.idle": "2020-10-13T09:10:55.605556Z",
     "shell.execute_reply": "2020-10-13T09:10:55.605022Z"
    },
    "papermill": {
     "duration": 0.250251,
     "end_time": "2020-10-13T09:10:55.605640",
     "exception": false,
     "start_time": "2020-10-13T09:10:55.355389",
     "status": "completed"
    },
    "tags": []
   },
   "outputs": [],
   "source": [
    "sub.to_csv('submission.csv',index=False)"
   ]
  },
  {
   "cell_type": "code",
   "execution_count": null,
   "metadata": {
    "papermill": {
     "duration": 0.027551,
     "end_time": "2020-10-13T09:10:55.661361",
     "exception": false,
     "start_time": "2020-10-13T09:10:55.633810",
     "status": "completed"
    },
    "tags": []
   },
   "outputs": [],
   "source": []
  }
 ],
 "metadata": {
  "kernelspec": {
   "display_name": "Python 3",
   "language": "python",
   "name": "python3"
  },
  "language_info": {
   "codemirror_mode": {
    "name": "ipython",
    "version": 3
   },
   "file_extension": ".py",
   "mimetype": "text/x-python",
   "name": "python",
   "nbconvert_exporter": "python",
   "pygments_lexer": "ipython3",
   "version": "3.8.5"
  },
  "papermill": {
   "duration": 10.69614,
   "end_time": "2020-10-13T09:10:55.795453",
   "environment_variables": {},
   "exception": null,
   "input_path": "__notebook__.ipynb",
   "output_path": "__notebook__.ipynb",
   "parameters": {},
   "start_time": "2020-10-13T09:10:45.099313",
   "version": "2.1.0"
  }
 },
 "nbformat": 4,
 "nbformat_minor": 4
}
